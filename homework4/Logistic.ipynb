{
 "cells": [
  {
   "cell_type": "code",
   "execution_count": 19,
   "metadata": {},
   "outputs": [],
   "source": [
    "import numpy as np\n",
    "import pandas as pd\n",
    "import seaborn as sns\n",
    "import data"
   ]
  },
  {
   "cell_type": "code",
   "execution_count": 20,
   "metadata": {},
   "outputs": [],
   "source": [
    "def getdata(mean, var, n):\n",
    "    dataset = []\n",
    "    for _ in range(n):\n",
    "        x = data.gaussianGenerator(mean[0], var[0])\n",
    "        y = data.gaussianGenerator(mean[1], var[1])\n",
    "        dataset.append((x, y))\n",
    "    return np.array(dataset)"
   ]
  },
  {
   "cell_type": "code",
   "execution_count": 21,
   "metadata": {},
   "outputs": [
    {
     "data": {
      "text/html": [
       "<div>\n",
       "<style scoped>\n",
       "    .dataframe tbody tr th:only-of-type {\n",
       "        vertical-align: middle;\n",
       "    }\n",
       "\n",
       "    .dataframe tbody tr th {\n",
       "        vertical-align: top;\n",
       "    }\n",
       "\n",
       "    .dataframe thead th {\n",
       "        text-align: right;\n",
       "    }\n",
       "</style>\n",
       "<table border=\"1\" class=\"dataframe\">\n",
       "  <thead>\n",
       "    <tr style=\"text-align: right;\">\n",
       "      <th></th>\n",
       "      <th>x1</th>\n",
       "      <th>x2</th>\n",
       "      <th>target</th>\n",
       "      <th>x0</th>\n",
       "    </tr>\n",
       "  </thead>\n",
       "  <tbody>\n",
       "    <tr>\n",
       "      <th>0</th>\n",
       "      <td>-4.653948</td>\n",
       "      <td>5.302351</td>\n",
       "      <td>0</td>\n",
       "      <td>1</td>\n",
       "    </tr>\n",
       "    <tr>\n",
       "      <th>1</th>\n",
       "      <td>-3.567408</td>\n",
       "      <td>5.199419</td>\n",
       "      <td>0</td>\n",
       "      <td>1</td>\n",
       "    </tr>\n",
       "    <tr>\n",
       "      <th>2</th>\n",
       "      <td>-6.351235</td>\n",
       "      <td>9.391363</td>\n",
       "      <td>0</td>\n",
       "      <td>1</td>\n",
       "    </tr>\n",
       "    <tr>\n",
       "      <th>3</th>\n",
       "      <td>-0.734452</td>\n",
       "      <td>4.179613</td>\n",
       "      <td>0</td>\n",
       "      <td>1</td>\n",
       "    </tr>\n",
       "    <tr>\n",
       "      <th>4</th>\n",
       "      <td>-3.392641</td>\n",
       "      <td>4.731987</td>\n",
       "      <td>0</td>\n",
       "      <td>1</td>\n",
       "    </tr>\n",
       "  </tbody>\n",
       "</table>\n",
       "</div>"
      ],
      "text/plain": [
       "         x1        x2  target  x0\n",
       "0 -4.653948  5.302351       0   1\n",
       "1 -3.567408  5.199419       0   1\n",
       "2 -6.351235  9.391363       0   1\n",
       "3 -0.734452  4.179613       0   1\n",
       "4 -3.392641  4.731987       0   1"
      ]
     },
     "execution_count": 21,
     "metadata": {},
     "output_type": "execute_result"
    }
   ],
   "source": [
    "dataset1 = getdata((-5, 5), (5, 5), 100)\n",
    "dataset1 = pd.DataFrame(dataset1, columns=['x1', 'x2'])\n",
    "dataset1['target'] = 0\n",
    "dataset1['x0'] = 1\n",
    "dataset1.head()"
   ]
  },
  {
   "cell_type": "code",
   "execution_count": 22,
   "metadata": {},
   "outputs": [
    {
     "data": {
      "text/html": [
       "<div>\n",
       "<style scoped>\n",
       "    .dataframe tbody tr th:only-of-type {\n",
       "        vertical-align: middle;\n",
       "    }\n",
       "\n",
       "    .dataframe tbody tr th {\n",
       "        vertical-align: top;\n",
       "    }\n",
       "\n",
       "    .dataframe thead th {\n",
       "        text-align: right;\n",
       "    }\n",
       "</style>\n",
       "<table border=\"1\" class=\"dataframe\">\n",
       "  <thead>\n",
       "    <tr style=\"text-align: right;\">\n",
       "      <th></th>\n",
       "      <th>x1</th>\n",
       "      <th>x2</th>\n",
       "      <th>target</th>\n",
       "      <th>x0</th>\n",
       "    </tr>\n",
       "  </thead>\n",
       "  <tbody>\n",
       "    <tr>\n",
       "      <th>0</th>\n",
       "      <td>3.758784</td>\n",
       "      <td>-4.699389</td>\n",
       "      <td>1</td>\n",
       "      <td>1</td>\n",
       "    </tr>\n",
       "    <tr>\n",
       "      <th>1</th>\n",
       "      <td>7.756577</td>\n",
       "      <td>-2.990751</td>\n",
       "      <td>1</td>\n",
       "      <td>1</td>\n",
       "    </tr>\n",
       "    <tr>\n",
       "      <th>2</th>\n",
       "      <td>5.981693</td>\n",
       "      <td>-5.193231</td>\n",
       "      <td>1</td>\n",
       "      <td>1</td>\n",
       "    </tr>\n",
       "    <tr>\n",
       "      <th>3</th>\n",
       "      <td>3.065927</td>\n",
       "      <td>-3.710692</td>\n",
       "      <td>1</td>\n",
       "      <td>1</td>\n",
       "    </tr>\n",
       "    <tr>\n",
       "      <th>4</th>\n",
       "      <td>5.079146</td>\n",
       "      <td>-5.006420</td>\n",
       "      <td>1</td>\n",
       "      <td>1</td>\n",
       "    </tr>\n",
       "  </tbody>\n",
       "</table>\n",
       "</div>"
      ],
      "text/plain": [
       "         x1        x2  target  x0\n",
       "0  3.758784 -4.699389       1   1\n",
       "1  7.756577 -2.990751       1   1\n",
       "2  5.981693 -5.193231       1   1\n",
       "3  3.065927 -3.710692       1   1\n",
       "4  5.079146 -5.006420       1   1"
      ]
     },
     "execution_count": 22,
     "metadata": {},
     "output_type": "execute_result"
    }
   ],
   "source": [
    "dataset2 = getdata((5, -4), (2, 2), 100)\n",
    "dataset2 = pd.DataFrame(dataset2, columns=['x1', 'x2'])\n",
    "dataset2['target'] = 1\n",
    "dataset2['x0'] = 1\n",
    "dataset2.head()"
   ]
  },
  {
   "cell_type": "code",
   "execution_count": 23,
   "metadata": {},
   "outputs": [
    {
     "data": {
      "text/html": [
       "<div>\n",
       "<style scoped>\n",
       "    .dataframe tbody tr th:only-of-type {\n",
       "        vertical-align: middle;\n",
       "    }\n",
       "\n",
       "    .dataframe tbody tr th {\n",
       "        vertical-align: top;\n",
       "    }\n",
       "\n",
       "    .dataframe thead th {\n",
       "        text-align: right;\n",
       "    }\n",
       "</style>\n",
       "<table border=\"1\" class=\"dataframe\">\n",
       "  <thead>\n",
       "    <tr style=\"text-align: right;\">\n",
       "      <th></th>\n",
       "      <th>x1</th>\n",
       "      <th>x2</th>\n",
       "      <th>target</th>\n",
       "      <th>x0</th>\n",
       "    </tr>\n",
       "  </thead>\n",
       "  <tbody>\n",
       "    <tr>\n",
       "      <th>0</th>\n",
       "      <td>-4.653948</td>\n",
       "      <td>5.302351</td>\n",
       "      <td>0</td>\n",
       "      <td>1</td>\n",
       "    </tr>\n",
       "    <tr>\n",
       "      <th>1</th>\n",
       "      <td>-3.567408</td>\n",
       "      <td>5.199419</td>\n",
       "      <td>0</td>\n",
       "      <td>1</td>\n",
       "    </tr>\n",
       "    <tr>\n",
       "      <th>2</th>\n",
       "      <td>-6.351235</td>\n",
       "      <td>9.391363</td>\n",
       "      <td>0</td>\n",
       "      <td>1</td>\n",
       "    </tr>\n",
       "    <tr>\n",
       "      <th>3</th>\n",
       "      <td>-0.734452</td>\n",
       "      <td>4.179613</td>\n",
       "      <td>0</td>\n",
       "      <td>1</td>\n",
       "    </tr>\n",
       "    <tr>\n",
       "      <th>4</th>\n",
       "      <td>-3.392641</td>\n",
       "      <td>4.731987</td>\n",
       "      <td>0</td>\n",
       "      <td>1</td>\n",
       "    </tr>\n",
       "  </tbody>\n",
       "</table>\n",
       "</div>"
      ],
      "text/plain": [
       "         x1        x2  target  x0\n",
       "0 -4.653948  5.302351       0   1\n",
       "1 -3.567408  5.199419       0   1\n",
       "2 -6.351235  9.391363       0   1\n",
       "3 -0.734452  4.179613       0   1\n",
       "4 -3.392641  4.731987       0   1"
      ]
     },
     "execution_count": 23,
     "metadata": {},
     "output_type": "execute_result"
    }
   ],
   "source": [
    "dataset = pd.concat([dataset1, dataset2], ignore_index=True)\n",
    "dataset.head()"
   ]
  },
  {
   "cell_type": "code",
   "execution_count": 24,
   "metadata": {},
   "outputs": [
    {
     "data": {
      "text/plain": [
       "<seaborn.axisgrid.FacetGrid at 0x7f71bdb75978>"
      ]
     },
     "execution_count": 24,
     "metadata": {},
     "output_type": "execute_result"
    },
    {
     "data": {
      "image/png": "[encoded data removed]",
      "text/plain": [
       "<matplotlib.figure.Figure at 0x7f71b6a184e0>"
      ]
     },
     "metadata": {},
     "output_type": "display_data"
    }
   ],
   "source": [
    "sns.lmplot(x='x1', y='x2', data=dataset, hue='target', fit_reg=False)"
   ]
  },
  {
   "cell_type": "markdown",
   "metadata": {},
   "source": [
    "Using Steepest Gradient Descent"
   ]
  },
  {
   "cell_type": "code",
   "execution_count": 25,
   "metadata": {},
   "outputs": [],
   "source": [
    "def sigmoid(z):\n",
    "    output = 1 / (1 + np.exp(-z))\n",
    "    return output"
   ]
  },
  {
   "cell_type": "code",
   "execution_count": 26,
   "metadata": {},
   "outputs": [],
   "source": [
    "def AMatrix(dataset):\n",
    "    A = np.zeros((dataset.shape[0], dataset.shape[1] - 1))\n",
    "    A[:, 0] = dataset['x0']\n",
    "    A[:, 1] = dataset['x1']\n",
    "    A[:, 2] = dataset['x2']\n",
    "    return A"
   ]
  },
  {
   "cell_type": "code",
   "execution_count": 27,
   "metadata": {},
   "outputs": [],
   "source": [
    "def target(dataset):\n",
    "    return dataset['target'].as_matrix().reshape(-1, 1)"
   ]
  },
  {
   "cell_type": "code",
   "execution_count": 28,
   "metadata": {},
   "outputs": [],
   "source": [
    "def update(weight, prediction, target, A, rate):\n",
    "    gradient = np.matmul(np.transpose(A), prediction - target) / A.shape[0]\n",
    "    return weight + rate * gradient"
   ]
  },
  {
   "cell_type": "code",
   "execution_count": 29,
   "metadata": {},
   "outputs": [],
   "source": [
    "def DMatrix(A, weight):\n",
    "    size = A.shape[1]\n",
    "    number = A.shape[0]\n",
    "    D = np.zeros((size, size))\n",
    "    for i in range(number):\n",
    "        for j in range(size):\n",
    "            D[j][j] += np.exp(-A[i][j] * weight[j][0]) / (1 + np.exp(-A[i][j] * weight[j][0]))**2\n",
    "            D[j][j] /= 2\n",
    "#     D /= number\n",
    "    return D"
   ]
  },
  {
   "cell_type": "code",
   "execution_count": 30,
   "metadata": {},
   "outputs": [],
   "source": [
    "def NewtonUpdate(hession, weight, prediction, target, A, rate):\n",
    "    gradient = np.matmul(np.transpose(A), prediction - target) / A.shape[0]\n",
    "    flag = True if np.abs(gradient).sum() < 0.01 else False\n",
    "    # Test if hession is invertible\n",
    "    if np.linalg.matrix_rank(hession) == hession.shape[0]:\n",
    "        hession_inv = np.linalg.inv(hession)\n",
    "        return weight + rate * (hession_inv @ gradient), flag\n",
    "    else:\n",
    "        return weight + rate * gradient, flag"
   ]
  },
  {
   "cell_type": "code",
   "execution_count": 31,
   "metadata": {},
   "outputs": [],
   "source": [
    "A = AMatrix(dataset)\n",
    "weight = np.random.randn(dataset.shape[1] - 1).reshape(-1, 1)\n",
    "y = target(dataset)"
   ]
  },
  {
   "cell_type": "code",
   "execution_count": 32,
   "metadata": {},
   "outputs": [
    {
     "data": {
      "text/plain": [
       "array([[ 1.04082145],\n",
       "       [ 1.85471467],\n",
       "       [-0.22222023]])"
      ]
     },
     "execution_count": 32,
     "metadata": {},
     "output_type": "execute_result"
    }
   ],
   "source": [
    "count = 0\n",
    "rate = 1\n",
    "while(count < 1000):\n",
    "    prediction = sigmoid(np.matmul(A, weight))\n",
    "    D = DMatrix(A, weight)\n",
    "    hession = np.transpose(A) @ A @ D\n",
    "#     weight = update(weight, prediction, y, A, rate)\n",
    "    weight, flag = NewtonUpdate(hession, weight, prediction, y, A, rate)\n",
    "    count += 1\n",
    "    rate *= 0.95\n",
    "    if flag:\n",
    "        break\n",
    "weight"
   ]
  },
  {
   "cell_type": "code",
   "execution_count": 33,
   "metadata": {},
   "outputs": [
    {
     "data": {
      "text/plain": [
       "array([[1.55421705e-04],\n",
       "       [1.19177603e-03],\n",
       "       [2.69029236e-06],\n",
       "       [2.22670322e-01],\n",
       "       [1.82726985e-03],\n",
       "       [6.89837661e-04],\n",
       "       [2.48606410e-05],\n",
       "       [4.93147600e-04],\n",
       "       [2.21363763e-04],\n",
       "       [6.73698089e-07],\n",
       "       [1.39460752e-04],\n",
       "       [8.88144443e-04],\n",
       "       [5.52071897e-10],\n",
       "       [1.67031421e-01],\n",
       "       [8.14170260e-04],\n",
       "       [1.91962232e-02],\n",
       "       [4.73153420e-05],\n",
       "       [2.93670995e-03],\n",
       "       [1.12918936e-04],\n",
       "       [3.26370643e-05],\n",
       "       [1.81218227e-04],\n",
       "       [2.24377094e-06],\n",
       "       [3.97303317e-05],\n",
       "       [1.17287759e-07],\n",
       "       [8.57299590e-05],\n",
       "       [1.22913784e-04],\n",
       "       [6.70654049e-05],\n",
       "       [7.81505970e-04],\n",
       "       [1.52794804e-05],\n",
       "       [1.08909339e-07],\n",
       "       [9.02808037e-03],\n",
       "       [1.74061655e-05],\n",
       "       [2.65620909e-05],\n",
       "       [1.53781242e-06],\n",
       "       [4.02390327e-05],\n",
       "       [3.55299991e-08],\n",
       "       [9.65666873e-03],\n",
       "       [4.09846696e-03],\n",
       "       [2.59147348e-02],\n",
       "       [2.11774121e-03],\n",
       "       [1.35430560e-03],\n",
       "       [4.06261564e-06],\n",
       "       [2.15491992e-03],\n",
       "       [1.89854378e-06],\n",
       "       [4.01056046e-02],\n",
       "       [8.34450442e-03],\n",
       "       [1.29894638e-04],\n",
       "       [4.06036679e-06],\n",
       "       [7.30363453e-08],\n",
       "       [2.88868371e-05],\n",
       "       [1.93324701e-04],\n",
       "       [2.45493703e-01],\n",
       "       [7.59972909e-09],\n",
       "       [2.53245006e-03],\n",
       "       [3.10821418e-05],\n",
       "       [2.01965182e-04],\n",
       "       [2.64453505e-03],\n",
       "       [9.41974823e-03],\n",
       "       [1.02897334e-03],\n",
       "       [5.01323320e-05],\n",
       "       [9.10892718e-08],\n",
       "       [5.89278508e-09],\n",
       "       [2.63214745e-02],\n",
       "       [1.33296811e-05],\n",
       "       [1.85249837e-07],\n",
       "       [6.15026358e-03],\n",
       "       [7.41669827e-05],\n",
       "       [1.46472172e-06],\n",
       "       [4.24938253e-02],\n",
       "       [2.52929734e-04],\n",
       "       [1.08388409e-01],\n",
       "       [1.46700942e-04],\n",
       "       [4.83794580e-03],\n",
       "       [8.56106686e-05],\n",
       "       [2.66847448e-04],\n",
       "       [5.70491375e-04],\n",
       "       [9.23830740e-07],\n",
       "       [9.16766453e-03],\n",
       "       [6.57616046e-03],\n",
       "       [1.68550957e-05],\n",
       "       [1.68141215e-03],\n",
       "       [2.82660009e-05],\n",
       "       [2.03048776e-04],\n",
       "       [1.50999811e-06],\n",
       "       [4.87845205e-05],\n",
       "       [7.65030524e-07],\n",
       "       [8.72704539e-03],\n",
       "       [1.78555935e-02],\n",
       "       [3.45708692e-03],\n",
       "       [9.47838691e-08],\n",
       "       [6.35986058e-06],\n",
       "       [2.13971917e-05],\n",
       "       [6.95503149e-07],\n",
       "       [7.92384801e-09],\n",
       "       [1.70705670e-03],\n",
       "       [1.89015571e-04],\n",
       "       [4.69293166e-08],\n",
       "       [3.74416009e-08],\n",
       "       [1.65830506e-08],\n",
       "       [2.50826301e-06],\n",
       "       [9.99883394e-01],\n",
       "       [9.99999897e-01],\n",
       "       [9.99998307e-01],\n",
       "       [9.99475128e-01],\n",
       "       [9.99990590e-01],\n",
       "       [9.99734817e-01],\n",
       "       [9.99999967e-01],\n",
       "       [9.99987194e-01],\n",
       "       [9.99762625e-01],\n",
       "       [9.99955973e-01],\n",
       "       [9.99999955e-01],\n",
       "       [9.99791921e-01],\n",
       "       [9.99517603e-01],\n",
       "       [9.99999575e-01],\n",
       "       [9.99968390e-01],\n",
       "       [9.99974182e-01],\n",
       "       [9.99995736e-01],\n",
       "       [9.99998394e-01],\n",
       "       [9.99999126e-01],\n",
       "       [9.99873794e-01],\n",
       "       [9.99995998e-01],\n",
       "       [9.99973402e-01],\n",
       "       [9.97799234e-01],\n",
       "       [9.99488976e-01],\n",
       "       [9.99961784e-01],\n",
       "       [9.99935200e-01],\n",
       "       [9.99969840e-01],\n",
       "       [9.99991171e-01],\n",
       "       [9.99999872e-01],\n",
       "       [9.99927152e-01],\n",
       "       [9.99998565e-01],\n",
       "       [9.99849625e-01],\n",
       "       [9.99993178e-01],\n",
       "       [9.99602237e-01],\n",
       "       [9.99977425e-01],\n",
       "       [9.98120498e-01],\n",
       "       [9.99999249e-01],\n",
       "       [9.99990011e-01],\n",
       "       [9.99989601e-01],\n",
       "       [9.99767770e-01],\n",
       "       [9.99476341e-01],\n",
       "       [9.99995456e-01],\n",
       "       [9.99999114e-01],\n",
       "       [9.99989680e-01],\n",
       "       [9.99992967e-01],\n",
       "       [9.99919085e-01],\n",
       "       [9.99997573e-01],\n",
       "       [9.99999457e-01],\n",
       "       [9.99900490e-01],\n",
       "       [9.99998991e-01],\n",
       "       [9.99992720e-01],\n",
       "       [9.99983532e-01],\n",
       "       [9.99992681e-01],\n",
       "       [9.99995817e-01],\n",
       "       [9.99834545e-01],\n",
       "       [9.99881678e-01],\n",
       "       [9.99824483e-01],\n",
       "       [9.99974740e-01],\n",
       "       [9.99997695e-01],\n",
       "       [9.99997314e-01],\n",
       "       [9.99982134e-01],\n",
       "       [9.99953699e-01],\n",
       "       [9.99940906e-01],\n",
       "       [9.99983990e-01],\n",
       "       [9.99993262e-01],\n",
       "       [9.99990078e-01],\n",
       "       [9.99949771e-01],\n",
       "       [9.99499162e-01],\n",
       "       [9.99997995e-01],\n",
       "       [9.99992524e-01],\n",
       "       [9.99999373e-01],\n",
       "       [9.99961856e-01],\n",
       "       [9.99997001e-01],\n",
       "       [9.99995477e-01],\n",
       "       [9.99990820e-01],\n",
       "       [9.99999568e-01],\n",
       "       [9.99999705e-01],\n",
       "       [9.99111196e-01],\n",
       "       [9.99829140e-01],\n",
       "       [9.99110309e-01],\n",
       "       [9.99975533e-01],\n",
       "       [9.99998841e-01],\n",
       "       [9.99993020e-01],\n",
       "       [9.99999725e-01],\n",
       "       [9.99975193e-01],\n",
       "       [9.99892866e-01],\n",
       "       [9.93927589e-01],\n",
       "       [9.99999787e-01],\n",
       "       [9.98537726e-01],\n",
       "       [9.99889459e-01],\n",
       "       [9.99998046e-01],\n",
       "       [9.99998162e-01],\n",
       "       [9.99985164e-01],\n",
       "       [9.99983252e-01],\n",
       "       [9.99904081e-01],\n",
       "       [9.99897204e-01],\n",
       "       [9.99999445e-01],\n",
       "       [9.99949146e-01],\n",
       "       [9.99543734e-01],\n",
       "       [9.99082012e-01]])"
      ]
     },
     "execution_count": 33,
     "metadata": {},
     "output_type": "execute_result"
    }
   ],
   "source": [
    "prediction = sigmoid(np.matmul(A, weight))\n",
    "prediction"
   ]
  },
  {
   "cell_type": "code",
   "execution_count": 34,
   "metadata": {},
   "outputs": [
    {
     "data": {
      "text/plain": [
       "[<matplotlib.lines.Line2D at 0x7f71b6a4b860>]"
      ]
     },
     "execution_count": 34,
     "metadata": {},
     "output_type": "execute_result"
    },
    {
     "data": {
      "image/png": "[encoded data removed]",
      "text/plain": [
       "<matplotlib.figure.Figure at 0x7f71b584d3c8>"
      ]
     },
     "metadata": {},
     "output_type": "display_data"
    }
   ],
   "source": [
    "import matplotlib.pyplot as plt\n",
    "l = np.linspace(-10, 10)\n",
    "a, b = -weight[1][0]/weight[2][0], -weight[0][0]/weight[2][0]\n",
    "sns.lmplot(x='x1', y='x2', data=dataset, hue='target', fit_reg=False)\n",
    "plt.plot(l, a*l + b, 'r')"
   ]
  },
  {
   "cell_type": "markdown",
   "metadata": {},
   "source": [
    "Confusion Matrix"
   ]
  },
  {
   "cell_type": "code",
   "execution_count": 35,
   "metadata": {},
   "outputs": [],
   "source": [
    "prediction[prediction >= 0.5] = 1\n",
    "prediction[prediction < 0.5] = 0"
   ]
  },
  {
   "cell_type": "code",
   "execution_count": 36,
   "metadata": {},
   "outputs": [
    {
     "name": "stdout",
     "output_type": "stream",
     "text": [
      "tn: 100, fp: 0, fn:0, tp: 100\n",
      "Sensitivity: 1.0, Specificity: 0.0\n"
     ]
    }
   ],
   "source": [
    "from sklearn.metrics import confusion_matrix\n",
    "(tn, fp, fn, tp) = confusion_matrix(y, prediction).ravel()\n",
    "print('tn: {}, fp: {}, fn:{}, tp: {}'.format(tn, fp, fn, tp))\n",
    "print('Sensitivity: {}, Specificity: {}'.format(tp / (tp + fn), fp / (fp + tn)))"
   ]
  },
  {
   "cell_type": "code",
   "execution_count": null,
   "metadata": {},
   "outputs": [],
   "source": []
  },
  {
   "cell_type": "code",
   "execution_count": null,
   "metadata": {},
   "outputs": [],
   "source": []
  }
 ],
 "metadata": {
  "kernelspec": {
   "display_name": "Python 3",
   "language": "python",
   "name": "python3"
  },
  "language_info": {
   "codemirror_mode": {
    "name": "ipython",
    "version": 3
   },
   "file_extension": ".py",
   "mimetype": "text/x-python",
   "name": "python",
   "nbconvert_exporter": "python",
   "pygments_lexer": "ipython3",
   "version": "3.6.4"
  }
 },
 "nbformat": 4,
 "nbformat_minor": 2
}
